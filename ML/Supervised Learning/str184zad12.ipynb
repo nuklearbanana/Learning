{
 "cells": [
  {
   "cell_type": "markdown",
   "metadata": {},
   "source": [
    "Zaimplementuj algorytm wsadowego gradientu prostego wykorzystujący mechanizm wczesnego zatrzymania w modelu regresji softmax bez korzystania z modułu Scikit-Learn,jedynie NumPy.  Uzyj go w zadaniu klasyfikacji, na przykład na zestawie danych Iris.\n"
   ]
  },
  {
   "cell_type": "code",
   "execution_count": 36,
   "metadata": {},
   "outputs": [],
   "source": [
    "import numpy as np"
   ]
  },
  {
   "cell_type": "code",
   "execution_count": null,
   "metadata": {},
   "outputs": [],
   "source": [
    "import numpy as np\n",
    "\n",
    "class SoftmaxRegression:\n",
    "    def __init__(self, learning_rate=0.01, epochs=1000, tolerance=1e-4, patience=5):\n",
    "        self.learning_rate = learning_rate\n",
    "        self.epochs = epochs\n",
    "        self.tolerance = tolerance\n",
    "        self.patience = patience\n",
    "\n",
    "    def softmax(self, z):\n",
    "        exp_z = np.exp(z - np.max(z, axis=1, keepdims=True))\n",
    "        return exp_z / np.sum(exp_z, axis=1, keepdims=True)\n",
    "\n",
    "    def compute_cost(self, X, y):\n",
    "        m = X.shape[0]\n",
    "        h = self.softmax(np.dot(X, self.theta))\n",
    "        log_likelihood = -np.log(h[range(m), y])\n",
    "        return np.sum(log_likelihood) / m\n",
    "\n",
    "    def fit(self, X, y):\n",
    "        m, n = X.shape\n",
    "        k = np.max(y) + 1 \n",
    "        self.theta = np.zeros((n, k))\n",
    "\n",
    "        best_cost = float('inf')\n",
    "        patience_counter = 0\n",
    "\n",
    "        for epoch in range(self.epochs):\n",
    "            h = self.softmax(np.dot(X, self.theta))\n",
    "            y_one_hot = np.eye(k)[y]\n",
    "            gradient = np.dot(X.T, (h - y_one_hot)) / m\n",
    "\n",
    "            self.theta -= self.learning_rate * gradient\n",
    "\n",
    "            cost = self.compute_cost(X, y)\n",
    "\n",
    "            if cost < best_cost - self.tolerance:\n",
    "                best_cost = cost\n",
    "                patience_counter = 0\n",
    "            else:\n",
    "                patience_counter += 1\n",
    "\n",
    "            if patience_counter >= self.patience:\n",
    "                break\n",
    "\n",
    "    def predict(self, X):\n",
    "        probabilities = self.softmax(np.dot(X, self.theta))\n",
    "        return np.argmax(probabilities, axis=1)\n"
   ]
  },
  {
   "cell_type": "code",
   "execution_count": 38,
   "metadata": {},
   "outputs": [],
   "source": [
    "from sklearn.datasets import load_iris\n",
    "iris = load_iris()"
   ]
  },
  {
   "cell_type": "code",
   "execution_count": 39,
   "metadata": {},
   "outputs": [],
   "source": [
    "from sklearn.model_selection import train_test_split\n",
    "X_train,X_test,y_train,y_test = train_test_split(iris.data,iris.target,test_size=0.3,random_state=42)"
   ]
  },
  {
   "cell_type": "code",
   "execution_count": 40,
   "metadata": {},
   "outputs": [],
   "source": [
    "model = SoftmaxRegression(learning_rate=0.1, epochs=1000, tolerance=1e-4, patience=10)\n",
    "model.fit(X_train,y_train)"
   ]
  },
  {
   "cell_type": "code",
   "execution_count": 41,
   "metadata": {},
   "outputs": [],
   "source": [
    "predictions = model.predict(X_test)"
   ]
  },
  {
   "cell_type": "code",
   "execution_count": 42,
   "metadata": {},
   "outputs": [],
   "source": [
    "result = np.mean(predictions == y_test)"
   ]
  },
  {
   "cell_type": "code",
   "execution_count": 43,
   "metadata": {},
   "outputs": [
    {
     "data": {
      "text/plain": [
       "0.9777777777777777"
      ]
     },
     "execution_count": 43,
     "metadata": {},
     "output_type": "execute_result"
    }
   ],
   "source": [
    "result"
   ]
  }
 ],
 "metadata": {
  "kernelspec": {
   "display_name": ".venv",
   "language": "python",
   "name": "python3"
  },
  "language_info": {
   "codemirror_mode": {
    "name": "ipython",
    "version": 3
   },
   "file_extension": ".py",
   "mimetype": "text/x-python",
   "name": "python",
   "nbconvert_exporter": "python",
   "pygments_lexer": "ipython3",
   "version": "3.12.3"
  }
 },
 "nbformat": 4,
 "nbformat_minor": 2
}
