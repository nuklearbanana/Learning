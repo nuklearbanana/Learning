{
 "cells": [
  {
   "cell_type": "code",
   "execution_count": 38,
   "metadata": {},
   "outputs": [],
   "source": [
    "from sklearn.datasets import load_digits\n",
    "from sklearn.svm import SVC\n",
    "from sklearn.ensemble import RandomForestClassifier\n",
    "from sklearn.naive_bayes import GaussianNB,MultinomialNB\n",
    "from sklearn.tree import DecisionTreeClassifier\n",
    "from sklearn.model_selection import GridSearchCV\n",
    "from sklearn.model_selection import cross_val_score\n",
    "from sklearn.model_selection import RandomizedSearchCV\n",
    "import pandas as pd\n"
   ]
  },
  {
   "cell_type": "code",
   "execution_count": 39,
   "metadata": {},
   "outputs": [],
   "source": [
    "digits = load_digits()"
   ]
  },
  {
   "cell_type": "code",
   "execution_count": 40,
   "metadata": {},
   "outputs": [],
   "source": [
    "model_parameters = {\n",
    "    'SVC': {\n",
    "        'model': SVC(),\n",
    "        'param': {\n",
    "            'C':[1,10,20],\n",
    "            'kernel':['linear', 'poly', 'rbf'],\n",
    "            'gamma' : ['auto','scale']\n",
    "        }\n",
    "    },\n",
    "    'GaussianNB': {\n",
    "        'model': GaussianNB(),\n",
    "        'param': {}\n",
    "        },\n",
    "    'MultinomialNB':{\n",
    "        'model': MultinomialNB(),\n",
    "        'param': {}\n",
    "    },\n",
    "    'Tree':{\n",
    "        'model': RandomForestClassifier(),\n",
    "        'param': {\n",
    "            'n_estimators': [40,60,80,100]\n",
    "        }\n",
    "    },\n",
    "}\n"
   ]
  },
  {
   "cell_type": "code",
   "execution_count": 41,
   "metadata": {},
   "outputs": [],
   "source": [
    "scores = []\n",
    "for model_name,mp in model_parameters.items():\n",
    "    model = GridSearchCV(mp['model'],mp['param'],cv=5,return_train_score=False)\n",
    "    model.fit(digits.data,digits.target)\n",
    "    scores.append({\n",
    "        'model': model_name,\n",
    "        'best_score': model.best_score_,\n",
    "        'best_params': model.best_params_\n",
    "    })"
   ]
  },
  {
   "cell_type": "code",
   "execution_count": 42,
   "metadata": {},
   "outputs": [
    {
     "data": {
      "text/plain": [
       "[{'model': 'SVC',\n",
       "  'best_score': 0.9738502011761063,\n",
       "  'best_params': {'C': 10, 'gamma': 'scale', 'kernel': 'rbf'}},\n",
       " {'model': 'GaussianNB', 'best_score': 0.8069281956050759, 'best_params': {}},\n",
       " {'model': 'MultinomialNB',\n",
       "  'best_score': 0.8703497369235531,\n",
       "  'best_params': {}},\n",
       " {'model': 'Tree',\n",
       "  'best_score': 0.9415861962240791,\n",
       "  'best_params': {'n_estimators': 80}}]"
      ]
     },
     "execution_count": 42,
     "metadata": {},
     "output_type": "execute_result"
    }
   ],
   "source": [
    "scores"
   ]
  }
 ],
 "metadata": {
  "kernelspec": {
   "display_name": ".venv",
   "language": "python",
   "name": "python3"
  },
  "language_info": {
   "codemirror_mode": {
    "name": "ipython",
    "version": 3
   },
   "file_extension": ".py",
   "mimetype": "text/x-python",
   "name": "python",
   "nbconvert_exporter": "python",
   "pygments_lexer": "ipython3",
   "version": "3.12.3"
  }
 },
 "nbformat": 4,
 "nbformat_minor": 2
}
